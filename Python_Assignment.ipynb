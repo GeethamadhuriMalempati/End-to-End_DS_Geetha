{
 "cells": [
  {
   "cell_type": "code",
   "execution_count": 13,
   "metadata": {},
   "outputs": [
    {
     "name": "stdout",
     "output_type": "stream",
     "text": [
      "32.0\n"
     ]
    }
   ],
   "source": [
    "#Consider the above text as a string, figure out the average length of the string.\n",
    "\n",
    "str=\"I am very keen in building up my career in Data Science, but not sure from where to start. If I search the web it throws me thousands of articles, few are relevant others make me confused, again I come around to the same page. Supervised has provided me a good platform to remove all such qualms which were wrangling in my mind\"\n",
    "str_lst=str.split()\n",
    "total_len=len(str_lst)\n",
    "sum_len=0\n",
    "pre_len=0\n",
    "for i in str_lst:\n",
    "    sum_len+=1\n",
    "    pre_len+=sum_len\n",
    "avg_len=(pre_len/total_len)\n",
    "print(avg_len)"
   ]
  },
  {
   "cell_type": "code",
   "execution_count": 1,
   "metadata": {},
   "outputs": [
    {
     "data": {
      "text/plain": [
       "3"
      ]
     },
     "execution_count": 1,
     "metadata": {},
     "output_type": "execute_result"
    }
   ],
   "source": [
    "a=3\n",
    "a"
   ]
  },
  {
   "cell_type": "code",
   "execution_count": 15,
   "metadata": {},
   "outputs": [
    {
     "data": {
      "text/plain": [
       "'i am very keen in building up my career in data science, but not sure from where to start. if i search the web it throws me thousands of articles, few are relevant others make me confused, again i come around to the same page. supervised has provided me a good platform to remove all such qualms which were wrangling in my mind'"
      ]
     },
     "execution_count": 15,
     "metadata": {},
     "output_type": "execute_result"
    }
   ],
   "source": [
    "#Lower the text in the string.\n",
    "str_lwr=str.lower()\n",
    "str_lwr"
   ]
  },
  {
   "cell_type": "code",
   "execution_count": 21,
   "metadata": {},
   "outputs": [
    {
     "name": "stdout",
     "output_type": "stream",
     "text": [
      "IamverykeeninbuildingupmycareerinDataSciencebutnotsurefromwheretostartIfIsearchthewebitthrowsmethousandsofarticlesfewarerelevantothersmakemeconfusedagainIcomearoundtothesamepageSupervisedhasprovidedmeagoodplatformtoremoveallsuchqualmswhichwerewranglinginmymind"
     ]
    }
   ],
   "source": [
    "#Try to get the clean text removing the punctuation from the string.\n",
    "for i in str:\n",
    "    if i.isalnum():\n",
    "        print(i, end='')\n",
    "    "
   ]
  },
  {
   "cell_type": "code",
   "execution_count": 23,
   "metadata": {},
   "outputs": [
    {
     "data": {
      "text/plain": [
       "43"
      ]
     },
     "execution_count": 23,
     "metadata": {},
     "output_type": "execute_result"
    }
   ],
   "source": [
    "#Extract word \"Data Science\" from the string.\n",
    "str_find=str.find('Data Science')\n",
    "str_find"
   ]
  },
  {
   "cell_type": "code",
   "execution_count": 56,
   "metadata": {},
   "outputs": [
    {
     "name": "stdout",
     "output_type": "stream",
     "text": [
      "I 3\n",
      "am 1\n",
      "very 1\n",
      "keen 1\n",
      "in 3\n",
      "building 1\n",
      "up 1\n",
      "my 2\n",
      "career 1\n",
      "Data 1\n",
      "Science, 1\n",
      "but 1\n",
      "not 1\n",
      "sure 1\n",
      "from 1\n",
      "where 1\n",
      "to 3\n",
      "start. 1\n",
      "If 1\n",
      "search 1\n",
      "the 2\n",
      "web 1\n",
      "it 1\n",
      "throws 1\n",
      "me 3\n",
      "thousands 1\n",
      "of 1\n",
      "articles, 1\n",
      "few 1\n",
      "are 1\n",
      "relevant 1\n",
      "others 1\n",
      "make 1\n",
      "confused, 1\n",
      "again 1\n",
      "come 1\n",
      "around 1\n",
      "same 1\n",
      "page. 1\n",
      "Supervised 1\n",
      "has 1\n",
      "provided 1\n",
      "a 1\n",
      "good 1\n",
      "platform 1\n",
      "remove 1\n",
      "all 1\n",
      "such 1\n",
      "qualms 1\n",
      "which 1\n",
      "were 1\n",
      "wrangling 1\n",
      "mind 1\n"
     ]
    }
   ],
   "source": [
    "#Find the frequency of words used in the string.\n",
    "str=\"I am very keen in building up my career in Data Science, but not sure from where to start. If I search the web it throws me thousands of articles, few are relevant others make me confused, again I come around to the same page. Supervised has provided me a good platform to remove all such qualms which were wrangling in my mind\"\n",
    "str_lst=str.split(' ')\n",
    "count=0\n",
    "new_str_lst=[]\n",
    "for i in str_lst:\n",
    "    if i not in new_str_lst:\n",
    "        new_str_lst.append(i)\n",
    "for i in range(len(new_str_lst)):\n",
    "    unique=str_lst.count(new_str_lst[i])\n",
    "    print(new_str_lst[i],unique)"
   ]
  },
  {
   "cell_type": "code",
   "execution_count": 163,
   "metadata": {
    "scrolled": true
   },
   "outputs": [
    {
     "name": "stdout",
     "output_type": "stream",
     "text": [
      "['I', 'am', 'very', 'keen', 'in', 'building', 'up', 'my', 'career', 'in', 'Data', 'Science,', 'but', 'not', 'sure', 'from', 'where', 'to', 'start.', 'If', 'I', 'search', 'the', 'web', 'it', 'throws', 'me', 'thousands', 'of', 'articles,', 'few', 'are', 'relevant', 'others', 'make', 'me', 'confused,', 'again', 'I', 'come', 'around', 'to', 'the', 'same', 'page.', 'Supervised', 'has', 'provided', 'me', 'a', 'good', 'platform', 'to', 'remove', 'all', 'such', 'qualms', 'which', 'were', 'wrangling', 'in', 'my', 'mind'] "
     ]
    }
   ],
   "source": [
    "#Fetch the duplicate pairs used in the string\n",
    "str=\"I am very keen in building up my career in Data Science, but not sure from where to start. If I search the web it throws me thousands of articles, few are relevant others make me confused, again I come around to the same page. Supervised has provided me a good platform to remove all such qualms which were wrangling in my mind\"\n",
    "str_lst=str.split(' ')\n",
    "a=len(str_lst)  \n",
    "pre_value=0\n",
    "while pre_value < (a-1):\n",
    "    if str_lst[pre_value]==str_lst[pre_value+1]:\n",
    "        del str_lst[pre_value:pre_value + 2]\n",
    "        pre_value = 0\n",
    "        a-=2\n",
    "    else:\n",
    "        pre_value+=1\n",
    "print(str_lst, end=' ')"
   ]
  },
  {
   "cell_type": "code",
   "execution_count": 89,
   "metadata": {},
   "outputs": [
    {
     "data": {
      "text/plain": [
       "'I am very keen in building up my career in Data Science, but not sure from where to start. If I search the web it throws me thousands of articles, few are relevant others make me confused, again I come around to the same page. Unsupervised has provided me a good platform to remove all such qualms which were wrangling in my mind'"
      ]
     },
     "execution_count": 89,
     "metadata": {},
     "output_type": "execute_result"
    }
   ],
   "source": [
    "#Can you change the word \"Supervised\" to \"Unsupervised\" in the string\n",
    "str=\"I am very keen in building up my career in Data Science, but not sure from where to start. If I search the web it throws me thousands of articles, few are relevant others make me confused, again I come around to the same page. Supervised has provided me a good platform to remove all such qualms which were wrangling in my mind\"\n",
    "str_replace=str.replace('Supervised', 'Unsupervised')\n",
    "str_replace"
   ]
  },
  {
   "cell_type": "code",
   "execution_count": 91,
   "metadata": {},
   "outputs": [
    {
     "data": {
      "text/plain": [
       "['I am very keen in building up my career in Data Science, but not sure from where to start',\n",
       " ' If I search the web it throws me thousands of articles, few are relevant others make me confused, again I come around to the same page',\n",
       " ' Supervised has provided me a good platform to remove all such qualms which were wrangling in my mind']"
      ]
     },
     "execution_count": 91,
     "metadata": {},
     "output_type": "execute_result"
    }
   ],
   "source": [
    "#Splitting of the string with a dot operator(.)\n",
    "str_split=str.split('.')\n",
    "str_split"
   ]
  },
  {
   "cell_type": "code",
   "execution_count": 94,
   "metadata": {},
   "outputs": [
    {
     "name": "stdout",
     "output_type": "stream",
     "text": [
      "['sure', 'where', 'the', 'me', 'are', 'make', 'me', 'come', 'the', 'same', 'me', 'remove', 'were'] "
     ]
    }
   ],
   "source": [
    "#Find the words from the string which ends with \"e\".\n",
    "str_lst=str.split(' ')\n",
    "new_str=[]\n",
    "for i in str_lst:\n",
    "    if i[-1]=='e':\n",
    "        new_str.append(i)\n",
    "print(new_str, end=' ')"
   ]
  },
  {
   "cell_type": "code",
   "execution_count": 97,
   "metadata": {},
   "outputs": [
    {
     "name": "stdout",
     "output_type": "stream",
     "text": [
      "a's count : 22\n"
     ]
    }
   ],
   "source": [
    "#Figure out number of a's used in the string.\n",
    "str_lst=str.split(' ')\n",
    "count=0\n",
    "for i in str_lst:\n",
    "    for j in range(len(i)):\n",
    "        if i[j]=='a':\n",
    "            count+=1\n",
    "print(\"a's count :\", count)"
   ]
  },
  {
   "cell_type": "code",
   "execution_count": 98,
   "metadata": {},
   "outputs": [
    {
     "data": {
      "text/plain": [
       "{'apple': 250, 'sugar': 500, 'rice': 2.5, 'milk': 2.5, 'egg': 1}"
      ]
     },
     "execution_count": 98,
     "metadata": {},
     "output_type": "execute_result"
    }
   ],
   "source": [
    "#In the weekend , I purchased 250g of apple, 500g of sugar, 2.5 kg of rice, 2.5 litres of milk and finally 1 dozen of egg.\n",
    "#Can you help me frame the above purchase in the form of dictionary with commodities as keys to it.\n",
    "com_dic={'apple':250, 'sugar':500, 'rice':2.5, 'milk':2.5, 'egg':1}\n",
    "com_dic"
   ]
  },
  {
   "cell_type": "code",
   "execution_count": 101,
   "metadata": {},
   "outputs": [
    {
     "data": {
      "text/plain": [
       "{'apple': 250, 'sugar': 500, 'rice': 2.5, 'milk': 2.5, 'egg': 1, 'atta': 1}"
      ]
     },
     "execution_count": 101,
     "metadata": {},
     "output_type": "execute_result"
    }
   ],
   "source": [
    "#I forgot to mention another item, 1kg of atta packet. Can you also add it ?\n",
    "com_dic.update({'atta':1})\n",
    "com_dic"
   ]
  },
  {
   "cell_type": "code",
   "execution_count": 106,
   "metadata": {},
   "outputs": [
    {
     "data": {
      "text/plain": [
       "{'apple': 250, 'sugar': 500, 'rice': 1, 'milk': 2.5, 'egg': 1, 'atta': 1}"
      ]
     },
     "execution_count": 106,
     "metadata": {},
     "output_type": "execute_result"
    }
   ],
   "source": [
    "#Instead of 2kg of rice, I bought only 1kg of rice. Can you change the corresponding value ?\n",
    "com_dic['rice']=1\n",
    "com_dic\n"
   ]
  },
  {
   "cell_type": "code",
   "execution_count": 108,
   "metadata": {},
   "outputs": [
    {
     "name": "stdout",
     "output_type": "stream",
     "text": [
      "apple\n",
      "sugar\n",
      "rice\n",
      "milk\n",
      "egg\n",
      "atta\n"
     ]
    }
   ],
   "source": [
    "#Can you list out all these items using a loop.\n",
    "#com_dic={'apple': 250, 'sugar': 500, 'rice': 2.5, 'milk': 2.5, 'egg': 1, 'atta': 1}\n",
    "for i in com_dic.keys():\n",
    "    print(i)"
   ]
  },
  {
   "cell_type": "code",
   "execution_count": 109,
   "metadata": {},
   "outputs": [
    {
     "data": {
      "text/plain": [
       "{'apple': 220, 'sugar': 43, 'rice': 45, 'milk': 30, 'eggs': 60}"
      ]
     },
     "execution_count": 109,
     "metadata": {},
     "output_type": "execute_result"
    }
   ],
   "source": [
    "#However, the cost of 1 kg apple is Rs.220, 1 kg of sugar is Rs.43, 1 Kg of rice is Rs. 45, 1 litre of milk is Rs.30 and 1 dozen of egg is Rs. 60.\n",
    "#Create another dictionary for pricing.\n",
    "price_dic={'apple':220, 'sugar':43, 'rice':45, 'milk':30, 'eggs':60}\n",
    "price_dic"
   ]
  },
  {
   "cell_type": "code",
   "execution_count": 171,
   "metadata": {},
   "outputs": [
    {
     "name": "stdout",
     "output_type": "stream",
     "text": [
      "Total commodity value : 324.0\n"
     ]
    }
   ],
   "source": [
    "#Thereby, prepare a bill for me of the overall cost of the total commodities purchased by using two dictionaries !\n",
    "com_dic={'apple': 0.25, 'sugar': 0.5, 'rice': 2.5, 'milk': 2.5, 'egg': 1}\n",
    "price_dic={'apple':220, 'sugar':43, 'rice':45, 'milk':30, 'eggs':60}\n",
    "temp=[]\n",
    "sum_total=0\n",
    "com_dic_values=list(com_dic.values())\n",
    "price_dic_values=list(price_dic.values())\n",
    "for j in range(len(com_dic_values)):\n",
    "        total=com_dic_values[j]*price_dic_values[j]\n",
    "        temp.append(total)\n",
    "for i in temp:\n",
    "    sum_total+=i\n",
    "print('Total commodity value :', sum_total)\n",
    "55 21.5 112.5 75 60"
   ]
  },
  {
   "cell_type": "code",
   "execution_count": 166,
   "metadata": {},
   "outputs": [],
   "source": [
    "AI_companies=['Amazon', 'Facebook', 'HiSilicon', 'Google', 'Apple', 'Microsoft', 'SenseTime']"
   ]
  },
  {
   "cell_type": "code",
   "execution_count": 116,
   "metadata": {},
   "outputs": [
    {
     "data": {
      "text/plain": [
       "['Amazon',\n",
       " 'Apple',\n",
       " 'Facebook',\n",
       " 'Google',\n",
       " 'HiSilicon',\n",
       " 'Microsoft',\n",
       " 'SenseTime']"
      ]
     },
     "execution_count": 116,
     "metadata": {},
     "output_type": "execute_result"
    }
   ],
   "source": [
    "#Sort the list in ascending order\n",
    "AI_companies=['Amazon', 'Facebook', 'HiSilicon', 'Google', 'Apple', 'Microsoft', 'SenseTime']\n",
    "AI_companies.sort()\n",
    "AI_companies"
   ]
  },
  {
   "cell_type": "code",
   "execution_count": 127,
   "metadata": {},
   "outputs": [
    {
     "data": {
      "text/plain": [
       "['Amazon',\n",
       " 'Facebook',\n",
       " 'HiSilicon',\n",
       " 'Google',\n",
       " 'Apple',\n",
       " 'Microsoft',\n",
       " 'SenseTime',\n",
       " 'Nvidia',\n",
       " 'OpenAI',\n",
       " 'Qualcomm',\n",
       " 'Reliance']"
      ]
     },
     "execution_count": 127,
     "metadata": {},
     "output_type": "execute_result"
    }
   ],
   "source": [
    "#Add multiple companies at once 'Nvidia', 'OpenAI' , 'Qualcomm' and 'Reliance' to the list\n",
    "AI_companies=['Amazon', 'Facebook', 'HiSilicon', 'Google', 'Apple', 'Microsoft', 'SenseTime']\n",
    "AI_companies.extend(['Nvidia', 'OpenAI', 'Qualcomm', 'Reliance'])\n",
    "AI_companies"
   ]
  },
  {
   "cell_type": "code",
   "execution_count": 172,
   "metadata": {},
   "outputs": [
    {
     "data": {
      "text/plain": [
       "['amazon',\n",
       " 'facebook',\n",
       " 'hisilicon',\n",
       " 'google',\n",
       " 'apple',\n",
       " 'microsoft',\n",
       " 'sensetime']"
      ]
     },
     "execution_count": 172,
     "metadata": {},
     "output_type": "execute_result"
    }
   ],
   "source": [
    "#Lower the list using List comprehension\n",
    "AI_companies=['Amazon', 'Facebook', 'HiSilicon', 'Google', 'Apple', 'Microsoft', 'SenseTime']\n",
    "[name.lower() for name in AI_companies]"
   ]
  },
  {
   "cell_type": "code",
   "execution_count": 128,
   "metadata": {},
   "outputs": [
    {
     "data": {
      "text/plain": [
       "['Amazon',\n",
       " 'Facebook',\n",
       " 'HiSilicon',\n",
       " 'Google',\n",
       " 'Apple',\n",
       " 'Microsoft',\n",
       " 'SenseTime',\n",
       " 'Nvidia',\n",
       " 'OpenAI',\n",
       " 'Qualcomm']"
      ]
     },
     "execution_count": 128,
     "metadata": {},
     "output_type": "execute_result"
    }
   ],
   "source": [
    "#Elimiate 'Reliance' from the list\n",
    "AI_companies.pop()\n",
    "AI_companies"
   ]
  },
  {
   "cell_type": "code",
   "execution_count": 130,
   "metadata": {},
   "outputs": [
    {
     "data": {
      "text/plain": [
       "['Facebook', 'Google', 'Microsoft']"
      ]
     },
     "execution_count": 130,
     "metadata": {},
     "output_type": "execute_result"
    }
   ],
   "source": [
    "#Extract 'Facebook', 'Google' and 'Microsoft' using a single command\n",
    "AI_companies[1:6:2]"
   ]
  },
  {
   "cell_type": "code",
   "execution_count": 132,
   "metadata": {},
   "outputs": [
    {
     "data": {
      "text/plain": [
       "(220, 43, 45, 30, 60)"
      ]
     },
     "execution_count": 132,
     "metadata": {},
     "output_type": "execute_result"
    }
   ],
   "source": [
    "#Consider the above standard price problem statement and place the prices in the form of the tuple.\n",
    "price_tuple=(220, 43, 45, 30, 60)\n",
    "price_tuple"
   ]
  },
  {
   "cell_type": "code",
   "execution_count": 140,
   "metadata": {},
   "outputs": [
    {
     "name": "stdout",
     "output_type": "stream",
     "text": [
      "Min and Max prices are : 30 220\n"
     ]
    }
   ],
   "source": [
    "#Find out the min and max price among them.\n",
    "price_tuple_lst=list(price_tuple)\n",
    "price_tuple_lst.sort()\n",
    "min=price_tuple_lst[0]\n",
    "max=price_tuple_lst[-1]\n",
    "print('Min and Max prices are :', min, max)"
   ]
  },
  {
   "cell_type": "code",
   "execution_count": 142,
   "metadata": {},
   "outputs": [
    {
     "data": {
      "text/plain": [
       "('Amazon',\n",
       " 'Facebook',\n",
       " 'HiSilicon',\n",
       " 'Google',\n",
       " 'Apple',\n",
       " 'Microsoft',\n",
       " 'SenseTime')"
      ]
     },
     "execution_count": 142,
     "metadata": {},
     "output_type": "execute_result"
    }
   ],
   "source": [
    "#Also, convert the above \"AI_companies\" list to a tuple.\n",
    "AI_companies=['Amazon', 'Facebook', 'HiSilicon', 'Google', 'Apple', 'Microsoft', 'SenseTime']\n",
    "AI_companies_tuple=tuple(AI_companies)\n",
    "AI_companies_tuple"
   ]
  },
  {
   "cell_type": "code",
   "execution_count": 143,
   "metadata": {},
   "outputs": [
    {
     "data": {
      "text/plain": [
       "(220,\n",
       " 43,\n",
       " 45,\n",
       " 30,\n",
       " 60,\n",
       " 'Amazon',\n",
       " 'Facebook',\n",
       " 'HiSilicon',\n",
       " 'Google',\n",
       " 'Apple',\n",
       " 'Microsoft',\n",
       " 'SenseTime')"
      ]
     },
     "execution_count": 143,
     "metadata": {},
     "output_type": "execute_result"
    }
   ],
   "source": [
    "#Combine two above tuples to a single tuple.\n",
    "combine_tuple=price_tuple + AI_companies_tuple\n",
    "combine_tuple"
   ]
  },
  {
   "cell_type": "code",
   "execution_count": 144,
   "metadata": {},
   "outputs": [
    {
     "name": "stdout",
     "output_type": "stream",
     "text": [
      "length of AI Companies tuple is greater\n"
     ]
    }
   ],
   "source": [
    "#Compare the length of two tuples.\n",
    "len_price_tuple=len(price_tuple)\n",
    "len_AI_companies_tuple=len(AI_companies_tuple)\n",
    "if len_price_tuple > len_AI_companies_tuple:\n",
    "    print('length of price tuple is greater.')\n",
    "elif len_price_tuple < len_AI_companies_tuple:\n",
    "    print('length of AI Companies tuple is greater')\n",
    "else:\n",
    "    print('length of both price and AI companies tuples are equal.')"
   ]
  }
 ],
 "metadata": {
  "kernelspec": {
   "display_name": "Python 3",
   "language": "python",
   "name": "python3"
  },
  "language_info": {
   "codemirror_mode": {
    "name": "ipython",
    "version": 3
   },
   "file_extension": ".py",
   "mimetype": "text/x-python",
   "name": "python",
   "nbconvert_exporter": "python",
   "pygments_lexer": "ipython3",
   "version": "3.7.3"
  }
 },
 "nbformat": 4,
 "nbformat_minor": 2
}
