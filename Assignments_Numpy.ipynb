{
 "cells": [
  {
   "cell_type": "code",
   "execution_count": 121,
   "metadata": {},
   "outputs": [
    {
     "data": {
      "text/plain": [
       "array([0, 1, 2, 3, 4, 5, 6, 7, 8, 9])"
      ]
     },
     "execution_count": 121,
     "metadata": {},
     "output_type": "execute_result"
    }
   ],
   "source": [
    "# Create a 1D array of numbers from 0 to 9.\n",
    "import numpy as np\n",
    "import pandas as pd\n",
    "import matplotlib as plt\n",
    "arr=np.array([0,1,2,3,4,5,6,7,8,9])\n",
    "arr"
   ]
  },
  {
   "cell_type": "code",
   "execution_count": 122,
   "metadata": {},
   "outputs": [
    {
     "data": {
      "text/plain": [
       "array([0, 1, 2, 3, 4, 5, 6, 7, 8, 9])"
      ]
     },
     "execution_count": 122,
     "metadata": {},
     "output_type": "execute_result"
    }
   ],
   "source": [
    "#Create a 1D array of numbers from 0 to 9.\n",
    "arr=np.arange(10)\n",
    "arr"
   ]
  },
  {
   "cell_type": "code",
   "execution_count": 7,
   "metadata": {},
   "outputs": [
    {
     "name": "stdout",
     "output_type": "stream",
     "text": [
      "Original Array : \n",
      " [[1. 1. 1.]\n",
      " [1. 1. 1.]\n",
      " [1. 1. 1.]]\n"
     ]
    }
   ],
   "source": [
    "#Create a 3×3 numpy array of all True’s\n",
    "arr1=np.ones((3,3))\n",
    "print('Original Array : \\n',arr1)\n"
   ]
  },
  {
   "cell_type": "code",
   "execution_count": 10,
   "metadata": {},
   "outputs": [
    {
     "data": {
      "text/plain": [
       "array([[ True,  True,  True],\n",
       "       [ True,  True,  True],\n",
       "       [ True,  True,  True]])"
      ]
     },
     "execution_count": 10,
     "metadata": {},
     "output_type": "execute_result"
    }
   ],
   "source": [
    "arr1>0"
   ]
  },
  {
   "cell_type": "code",
   "execution_count": 63,
   "metadata": {},
   "outputs": [
    {
     "data": {
      "text/plain": [
       "array([[ 1,  2,  3],\n",
       "       [ 7,  8,  9],\n",
       "       [11, 15, 18]])"
      ]
     },
     "execution_count": 63,
     "metadata": {},
     "output_type": "execute_result"
    }
   ],
   "source": [
    "#Given an array as input, print only odd numbers as output\n",
    "arr2=np.array([[1,2,3],[7,8,9],[11,15,18]])\n",
    "arr2"
   ]
  },
  {
   "cell_type": "code",
   "execution_count": 64,
   "metadata": {},
   "outputs": [
    {
     "name": "stdout",
     "output_type": "stream",
     "text": [
      "[ 1  3  7  9 11 15]\n"
     ]
    }
   ],
   "source": [
    "arr2_odd=arr2[np.where((arr2%2!=0))]\n",
    "print(arr2_odd)"
   ]
  },
  {
   "cell_type": "code",
   "execution_count": 72,
   "metadata": {},
   "outputs": [
    {
     "data": {
      "text/plain": [
       "array([[-2,  2, -2],\n",
       "       [-2,  8, -2],\n",
       "       [-2, -2, 18]])"
      ]
     },
     "execution_count": 72,
     "metadata": {},
     "output_type": "execute_result"
    }
   ],
   "source": [
    "arr3_odd=np.where((arr2%2!=0))\n",
    "arr2[arr3_odd]=-2\n",
    "arr2"
   ]
  },
  {
   "cell_type": "code",
   "execution_count": 26,
   "metadata": {},
   "outputs": [
    {
     "name": "stdout",
     "output_type": "stream",
     "text": [
      "[[ 1  2]\n",
      " [ 6  8]\n",
      " [ 5 10]] (3, 2)\n"
     ]
    }
   ],
   "source": [
    "#How to reshape an array?\n",
    "arr3=np.array([[1,2],[6,8],[5,10]])\n",
    "print(arr3,arr3.shape)"
   ]
  },
  {
   "cell_type": "code",
   "execution_count": 30,
   "metadata": {},
   "outputs": [
    {
     "name": "stdout",
     "output_type": "stream",
     "text": [
      "[[ 1  2  6]\n",
      " [ 8  5 10]]\n"
     ]
    }
   ],
   "source": [
    "print(arr3.reshape(2,3))"
   ]
  },
  {
   "cell_type": "code",
   "execution_count": 41,
   "metadata": {},
   "outputs": [
    {
     "name": "stdout",
     "output_type": "stream",
     "text": [
      "[0 1 2 3 4 5 6 7 8]\n"
     ]
    }
   ],
   "source": [
    "#Convert a 1D array to a 2D array with 2 rows\n",
    "arr4=np.arange(9)\n",
    "print(arr4)"
   ]
  },
  {
   "cell_type": "code",
   "execution_count": 55,
   "metadata": {},
   "outputs": [
    {
     "name": "stdout",
     "output_type": "stream",
     "text": [
      "[[0 1]\n",
      " [2 3]]\n"
     ]
    }
   ],
   "source": [
    "print(arr4.reshape(2,2))"
   ]
  },
  {
   "cell_type": "code",
   "execution_count": 61,
   "metadata": {},
   "outputs": [
    {
     "name": "stdout",
     "output_type": "stream",
     "text": [
      "[1 2 3 4 5 6 7 8 9]\n",
      "[1 3 4 5 7 8 9]\n"
     ]
    }
   ],
   "source": [
    "#Given an array  a  = [1,2,3,4,5,6,7,8,9] , create  new array b from a such that b includes all odd numbers and 4 multiples. \n",
    "a=np.arange(1,10)\n",
    "print(a)\n",
    "b=a[np.where((a%2!=0) | (a%4==0))]\n",
    "print(b)"
   ]
  },
  {
   "cell_type": "code",
   "execution_count": 147,
   "metadata": {},
   "outputs": [
    {
     "name": "stdout",
     "output_type": "stream",
     "text": [
      "[10. 11. 12. 15. nan]\n"
     ]
    }
   ],
   "source": [
    "#Given array, check if there are any null values and print them out. \n",
    "x=np.array([10,11,12,15])\n",
    "y=np.append(x,np.NaN)\n",
    "print(y)"
   ]
  },
  {
   "cell_type": "code",
   "execution_count": 151,
   "metadata": {},
   "outputs": [
    {
     "data": {
      "text/plain": [
       "array([nan])"
      ]
     },
     "execution_count": 151,
     "metadata": {},
     "output_type": "execute_result"
    }
   ],
   "source": [
    "z=y[np.isnan(y)]\n",
    "z"
   ]
  },
  {
   "cell_type": "code",
   "execution_count": 159,
   "metadata": {},
   "outputs": [
    {
     "data": {
      "text/plain": [
       "array([10., 11., 12., 15.,  0.])"
      ]
     },
     "execution_count": 159,
     "metadata": {},
     "output_type": "execute_result"
    }
   ],
   "source": [
    "#How to replace all missing values with 0 in a numpy array?\n",
    "import numpy as np\n",
    "import pandas as pd\n",
    "import matplotlib as plt\n",
    "z=np.isnan((y))\n",
    "p=np.where((z))\n",
    "y[p]=0\n",
    "y"
   ]
  },
  {
   "cell_type": "code",
   "execution_count": 166,
   "metadata": {},
   "outputs": [
    {
     "data": {
      "text/plain": [
       "(array([1, 2, 3, 4, 5, 6]), array([2, 2, 1, 1, 3, 1], dtype=int64))"
      ]
     },
     "execution_count": 166,
     "metadata": {},
     "output_type": "execute_result"
    }
   ],
   "source": [
    "#How to find the count of each unique number in a NumPy array?\n",
    "a=np.array([1,2,3,2,1,5,6,5,4,5])\n",
    "u_values,u_counts=np.unique(a, return_counts=True)\n",
    "u_values,u_counts"
   ]
  },
  {
   "cell_type": "code",
   "execution_count": 175,
   "metadata": {},
   "outputs": [
    {
     "data": {
      "text/plain": [
       "array(['pizza', 'burger', 'sandwich', 'choclates', 'Icecream'],\n",
       "      dtype='<U32')"
      ]
     },
     "execution_count": 175,
     "metadata": {},
     "output_type": "execute_result"
    }
   ],
   "source": [
    "#How to convert a numeric to a categorical (text) array?\n",
    "fav_food_rating={1:'pizza',2:'burger',3:'sandwich',4:'choclates',5:'Icecream'}\n",
    "text_array_rating=[]\n",
    "for i in fav_food_rating:\n",
    "    text_array_rating=np.append(text_array_rating, fav_food_rating[i])\n",
    "text_array_rating"
   ]
  },
  {
   "cell_type": "code",
   "execution_count": 204,
   "metadata": {},
   "outputs": [
    {
     "name": "stdout",
     "output_type": "stream",
     "text": [
      "100\n",
      "110\n",
      "112\n",
      "115\n",
      "119\n",
      "120\n",
      "125\n",
      "126\n",
      "130\n",
      "133\n",
      "135\n",
      "145\n",
      "147\n",
      "150\n",
      "154\n",
      "155\n",
      "160\n",
      "161\n",
      "165\n",
      "168\n",
      "170\n",
      "180\n",
      "182\n",
      "185\n",
      "189\n",
      "190\n",
      "195\n",
      "196\n",
      "200\n",
      "203\n",
      "205\n",
      "215\n",
      "217\n",
      "220\n",
      "224\n",
      "225\n",
      "230\n",
      "231\n",
      "235\n",
      "238\n",
      "240\n",
      "250\n",
      "252\n",
      "255\n",
      "259\n",
      "260\n",
      "265\n",
      "266\n",
      "270\n",
      "273\n",
      "275\n",
      "285\n",
      "287\n",
      "290\n",
      "294\n",
      "295\n"
     ]
    }
   ],
   "source": [
    "#Write a program to print all numbers between 99 and 299 which are either divisible by 5 or 7. Exclude the elements which are divisible by both. \n",
    "a=np.arange(99,299)\n",
    "for i in a:\n",
    "    if ((i%5==0) & (i%7==0)):\n",
    "        continue\n",
    "    elif((i%5==0) | (i%7==0)):\n",
    "        print(i)"
   ]
  },
  {
   "cell_type": "code",
   "execution_count": 249,
   "metadata": {},
   "outputs": [
    {
     "data": {
      "text/plain": [
       "array([10, 11, 12, 13, 14, 15, 16, 17, 18, 19])"
      ]
     },
     "execution_count": 249,
     "metadata": {},
     "output_type": "execute_result"
    }
   ],
   "source": [
    "#Write a program to reverse an array and print (Don’t use inbuilt reverse functions)\n",
    "a=np.arange(10,20)\n",
    "a"
   ]
  },
  {
   "cell_type": "code",
   "execution_count": 250,
   "metadata": {},
   "outputs": [
    {
     "name": "stdout",
     "output_type": "stream",
     "text": [
      "[19 18 17 16 15 14 13 12 11 10]\n"
     ]
    }
   ],
   "source": [
    "j=-1\n",
    "temp=[]\n",
    "b=len(a)//2\n",
    "for i in range(b):\n",
    "    temp=a[i]\n",
    "    a[i]=a[j]\n",
    "    a[j]=temp\n",
    "    j=j-1\n",
    "print(a)"
   ]
  },
  {
   "cell_type": "code",
   "execution_count": null,
   "metadata": {},
   "outputs": [],
   "source": []
  }
 ],
 "metadata": {
  "kernelspec": {
   "display_name": "Python 3",
   "language": "python",
   "name": "python3"
  },
  "language_info": {
   "codemirror_mode": {
    "name": "ipython",
    "version": 3
   },
   "file_extension": ".py",
   "mimetype": "text/x-python",
   "name": "python",
   "nbconvert_exporter": "python",
   "pygments_lexer": "ipython3",
   "version": "3.7.3"
  }
 },
 "nbformat": 4,
 "nbformat_minor": 2
}
